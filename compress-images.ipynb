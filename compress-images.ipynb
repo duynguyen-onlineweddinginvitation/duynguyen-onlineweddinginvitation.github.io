{
 "cells": [
  {
   "cell_type": "code",
   "execution_count": 1,
   "id": "initial_id",
   "metadata": {
    "collapsed": true,
    "ExecuteTime": {
     "end_time": "2024-01-30T11:21:16.074679728Z",
     "start_time": "2024-01-30T11:21:15.926348738Z"
    }
   },
   "outputs": [],
   "source": [
    "from PIL import Image\n",
    "import os\n",
    "import glob\n",
    "from tqdm import tqdm"
   ]
  },
  {
   "cell_type": "code",
   "outputs": [],
   "source": [
    "def compress(image_file):\n",
    "\n",
    "    filepath = os.path.join(os.getcwd(), image_file)\n",
    "\n",
    "    folder_path = os.path.split(filepath)[0]\n",
    "    file_name = os.path.split(filepath)[1]\n",
    "    result_folder_path = folder_path + '/compresses'\n",
    "    if not os.path.exists(result_folder_path):\n",
    "        os.makedirs(result_folder_path)\n",
    "\n",
    "    image = Image.open(filepath)\n",
    "\n",
    "    image.save(result_folder_path + '/' + file_name,\n",
    "                 \"JPEG\",\n",
    "                 optimize = True,\n",
    "                 quality = 70)"
   ],
   "metadata": {
    "collapsed": false,
    "ExecuteTime": {
     "end_time": "2024-01-30T11:23:46.932342342Z",
     "start_time": "2024-01-30T11:23:46.925870603Z"
    }
   },
   "id": "ef9480e1ed9f7f8f",
   "execution_count": 7
  },
  {
   "cell_type": "code",
   "outputs": [],
   "source": [
    "image_list = []\n",
    "for filename in glob.glob('/home/duy/Pictures/Duynguyen/folder/*.jpg'):\n",
    "    im=Image.open(filename)\n",
    "    image_list.append(filename)"
   ],
   "metadata": {
    "collapsed": false,
    "ExecuteTime": {
     "end_time": "2024-01-30T11:23:49.318996386Z",
     "start_time": "2024-01-30T11:23:49.287333317Z"
    }
   },
   "id": "da823ac0f193753b",
   "execution_count": 8
  },
  {
   "cell_type": "code",
   "outputs": [
    {
     "name": "stderr",
     "output_type": "stream",
     "text": [
      "100%|██████████| 31/31 [00:42<00:00,  1.36s/it]\n"
     ]
    }
   ],
   "source": [
    "for filename in tqdm(image_list):\n",
    "    compress(image_file=filename)"
   ],
   "metadata": {
    "collapsed": false,
    "ExecuteTime": {
     "end_time": "2024-01-30T11:24:35.366758191Z",
     "start_time": "2024-01-30T11:23:53.203129424Z"
    }
   },
   "id": "c98ae4a4b978d5ad",
   "execution_count": 9
  }
 ],
 "metadata": {
  "kernelspec": {
   "display_name": "Python 3",
   "language": "python",
   "name": "python3"
  },
  "language_info": {
   "codemirror_mode": {
    "name": "ipython",
    "version": 2
   },
   "file_extension": ".py",
   "mimetype": "text/x-python",
   "name": "python",
   "nbconvert_exporter": "python",
   "pygments_lexer": "ipython2",
   "version": "2.7.6"
  }
 },
 "nbformat": 4,
 "nbformat_minor": 5
}
